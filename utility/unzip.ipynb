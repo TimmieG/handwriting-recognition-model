{
 "cells": [
  {
   "cell_type": "code",
   "execution_count": 1,
   "metadata": {},
   "outputs": [],
   "source": [
    "# importing the zipfile module \n",
    "from zipfile import ZipFile \n",
    "\n",
    "# loading the temp.zip and creating a zip object \n",
    "with ZipFile(\"C:\\\\Lambton\\\\Term_2\\\\BDM-2053 Big Data Algorithms and Statistics\\\\labs\\\\project\\\\archive.zip\", 'r') as zObject: \n",
    "\n",
    "\t# Extracting all the members of the zip \n",
    "\t# into a specific location. \n",
    "\tzObject.extractall(path=\"C:\\\\Lambton\\\\Term_2\\\\BDM-2053 Big Data Algorithms and Statistics\\\\labs\\\\project\\\\handwriting-recognition-model\\\\dataset\") \n",
    "\t\n",
    "\n"
   ]
  }
 ],
 "metadata": {
  "kernelspec": {
   "display_name": "env",
   "language": "python",
   "name": "python3"
  },
  "language_info": {
   "codemirror_mode": {
    "name": "ipython",
    "version": 3
   },
   "file_extension": ".py",
   "mimetype": "text/x-python",
   "name": "python",
   "nbconvert_exporter": "python",
   "pygments_lexer": "ipython3",
   "version": "3.11.5"
  }
 },
 "nbformat": 4,
 "nbformat_minor": 2
}
